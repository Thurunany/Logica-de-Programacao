{
 "cells": [
  {
   "cell_type": "code",
   "execution_count": 1,
   "metadata": {},
   "outputs": [],
   "source": [
    "# Criação de um dicionário para armazenar meses do ano\n",
    "meses = {\n",
    "    1: \"janeiro\",\n",
    "    2: \"fevereiro\",\n",
    "    3: \"março\",\n",
    "    4: \"abril\",\n",
    "    5: \"maio\",\n",
    "    6: \"junho\",\n",
    "    7: \"julho\",\n",
    "    8: \"agosto\",\n",
    "    9: \"setembro\",\n",
    "    10: \"outubro\",\n",
    "    11: \"novembro\",\n",
    "    12: \"dezembro\"\n",
    "}"
   ]
  },
  {
   "cell_type": "code",
   "execution_count": 2,
   "metadata": {},
   "outputs": [
    {
     "name": "stdout",
     "output_type": "stream",
     "text": [
      "{1: 'janeiro', 2: 'fevereiro', 3: 'março', 4: 'abril', 5: 'maio', 6: 'junho', 7: 'julho', 8: 'agosto', 9: 'setembro', 10: 'outubro', 11: 'novembro', 12: 'dezembro'}\n",
      "abril\n"
     ]
    }
   ],
   "source": [
    "print(meses)\n",
    "print(meses[4])"
   ]
  },
  {
   "cell_type": "code",
   "execution_count": 3,
   "metadata": {},
   "outputs": [
    {
     "name": "stdout",
     "output_type": "stream",
     "text": [
      "4/6/2019\n"
     ]
    }
   ],
   "source": [
    "# Definição de uma string 'data' com a data de hoje\n",
    "data = \"4/6/2019\"\n",
    "print(data)"
   ]
  },
  {
   "cell_type": "code",
   "execution_count": 4,
   "metadata": {},
   "outputs": [
    {
     "data": {
      "text/plain": [
       "str"
      ]
     },
     "execution_count": 4,
     "metadata": {},
     "output_type": "execute_result"
    }
   ],
   "source": [
    "# Tipo da variável 'data'\n",
    "type(data)"
   ]
  },
  {
   "cell_type": "code",
   "execution_count": 5,
   "metadata": {},
   "outputs": [
    {
     "data": {
      "text/plain": [
       "['4/6/2019']"
      ]
     },
     "execution_count": 5,
     "metadata": {},
     "output_type": "execute_result"
    }
   ],
   "source": [
    "data.split()"
   ]
  },
  {
   "cell_type": "code",
   "execution_count": 6,
   "metadata": {},
   "outputs": [
    {
     "data": {
      "text/plain": [
       "['4', '6', '2019']"
      ]
     },
     "execution_count": 6,
     "metadata": {},
     "output_type": "execute_result"
    }
   ],
   "source": [
    "data.split('/')"
   ]
  },
  {
   "cell_type": "code",
   "execution_count": 7,
   "metadata": {},
   "outputs": [],
   "source": [
    "dia = data.split('/')[0]\n",
    "mes = data.split('/')[1]\n",
    "ano = data.split('/')[2]"
   ]
  },
  {
   "cell_type": "code",
   "execution_count": 9,
   "metadata": {},
   "outputs": [
    {
     "name": "stdout",
     "output_type": "stream",
     "text": [
      "4 6 2019\n"
     ]
    }
   ],
   "source": [
    "print(dia, mes, ano)"
   ]
  },
  {
   "cell_type": "code",
   "execution_count": 10,
   "metadata": {},
   "outputs": [
    {
     "name": "stdout",
     "output_type": "stream",
     "text": [
      "4 de 6 de 2019\n"
     ]
    }
   ],
   "source": [
    "print(\"{} de {} de {}\".format(dia, mes, ano))"
   ]
  },
  {
   "cell_type": "code",
   "execution_count": 12,
   "metadata": {},
   "outputs": [
    {
     "name": "stdout",
     "output_type": "stream",
     "text": [
      "4 de junho de 2019.\n"
     ]
    }
   ],
   "source": [
    "print(\"{} de {} de {}.\".format(dia, meses[int(mes)], ano))"
   ]
  },
  {
   "cell_type": "code",
   "execution_count": 13,
   "metadata": {},
   "outputs": [],
   "source": [
    "nome = \"anna heloise bianchini\""
   ]
  },
  {
   "cell_type": "code",
   "execution_count": 14,
   "metadata": {},
   "outputs": [
    {
     "data": {
      "text/plain": [
       "'anna heloise bianchini'"
      ]
     },
     "execution_count": 14,
     "metadata": {},
     "output_type": "execute_result"
    }
   ],
   "source": [
    "nome"
   ]
  },
  {
   "cell_type": "code",
   "execution_count": 17,
   "metadata": {},
   "outputs": [
    {
     "name": "stdout",
     "output_type": "stream",
     "text": [
      "anna.bianchini\n"
     ]
    }
   ],
   "source": [
    "nome = nome.split()\n",
    "print(\"{}.{}\".format(nome[0], nome[-1]))"
   ]
  },
  {
   "cell_type": "code",
   "execution_count": 18,
   "metadata": {},
   "outputs": [
    {
     "data": {
      "text/plain": [
       "{1: 'janeiro',\n",
       " 2: 'fevereiro',\n",
       " 3: 'março',\n",
       " 4: 'abril',\n",
       " 5: 'maio',\n",
       " 6: 'junho',\n",
       " 7: 'julho',\n",
       " 8: 'agosto',\n",
       " 9: 'setembro',\n",
       " 10: 'outubro',\n",
       " 11: 'novembro',\n",
       " 12: 'dezembro'}"
      ]
     },
     "execution_count": 18,
     "metadata": {},
     "output_type": "execute_result"
    }
   ],
   "source": [
    "meses"
   ]
  },
  {
   "cell_type": "code",
   "execution_count": 23,
   "metadata": {},
   "outputs": [
    {
     "name": "stdout",
     "output_type": "stream",
     "text": [
      "1 corresponde a janeiro\n",
      "2 corresponde a fevereiro\n",
      "3 corresponde a março\n",
      "4 corresponde a abril\n",
      "5 corresponde a maio\n",
      "6 corresponde a junho\n",
      "7 corresponde a julho\n",
      "8 corresponde a agosto\n",
      "9 corresponde a setembro\n",
      "10 corresponde a outubro\n",
      "11 corresponde a novembro\n",
      "12 corresponde a dezembro\n"
     ]
    }
   ],
   "source": [
    "for k, v in meses.items():\n",
    "    print(\"{} corresponde a {}\".format(k, v))"
   ]
  },
  {
   "cell_type": "code",
   "execution_count": null,
   "metadata": {},
   "outputs": [],
   "source": []
  }
 ],
 "metadata": {
  "kernelspec": {
   "display_name": "Python 3",
   "language": "python",
   "name": "python3"
  },
  "language_info": {
   "codemirror_mode": {
    "name": "ipython",
    "version": 3
   },
   "file_extension": ".py",
   "mimetype": "text/x-python",
   "name": "python",
   "nbconvert_exporter": "python",
   "pygments_lexer": "ipython3",
   "version": "3.7.3"
  }
 },
 "nbformat": 4,
 "nbformat_minor": 2
}
